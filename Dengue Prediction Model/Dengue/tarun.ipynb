{
 "cells": [
  {
   "cell_type": "markdown",
   "metadata": {},
   "source": [
    "## Master's Project                                                                                               \n",
    "\n",
    "### Project Phase-1 \n",
    "\n",
    "\n",
    "1. import library (Pandas , numpy, matplotlib, Logistic regression, svm)\n",
    "2. import datasets\n",
    "3. data preprocessing\n",
    "4. splitting dataset(Training and Testing  )\n",
    "5. applying Model(Algorithm )\n",
    "6. Finding the Accuaracy \n",
    "7. Finally prediction \n",
    "8. Data visualization \n",
    "                                          "
   ]
  },
  {
   "cell_type": "code",
   "execution_count": null,
   "metadata": {},
   "outputs": [],
   "source": [
    "#STEP 1 : Importing Libraries\n",
    "\n",
    "import pandas as pd\n",
    "import matplotlib.pyplot as plt \n",
    "import numpy as np\n",
    "import seaborn as sns"
   ]
  },
  {
   "cell_type": "code",
   "execution_count": 161,
   "metadata": {},
   "outputs": [
    {
     "data": {
      "text/html": [
       "<div>\n",
       "<style scoped>\n",
       "    .dataframe tbody tr th:only-of-type {\n",
       "        vertical-align: middle;\n",
       "    }\n",
       "\n",
       "    .dataframe tbody tr th {\n",
       "        vertical-align: top;\n",
       "    }\n",
       "\n",
       "    .dataframe thead th {\n",
       "        text-align: right;\n",
       "    }\n",
       "</style>\n",
       "<table border=\"1\" class=\"dataframe\">\n",
       "  <thead>\n",
       "    <tr style=\"text-align: right;\">\n",
       "      <th></th>\n",
       "      <th>s.no</th>\n",
       "      <th>gender</th>\n",
       "      <th>age</th>\n",
       "      <th>country</th>\n",
       "      <th>state</th>\n",
       "      <th>hospital</th>\n",
       "      <th>year</th>\n",
       "      <th>temp</th>\n",
       "      <th>vomiting</th>\n",
       "      <th>eyepain</th>\n",
       "      <th>platelets</th>\n",
       "      <th>fatigue</th>\n",
       "      <th>fever</th>\n",
       "      <th>musclepain</th>\n",
       "      <th>skinrash</th>\n",
       "      <th>disease</th>\n",
       "    </tr>\n",
       "  </thead>\n",
       "  <tbody>\n",
       "    <tr>\n",
       "      <th>0</th>\n",
       "      <td>1</td>\n",
       "      <td>M</td>\n",
       "      <td>3</td>\n",
       "      <td>IND</td>\n",
       "      <td>TN</td>\n",
       "      <td>APPLO</td>\n",
       "      <td>2018</td>\n",
       "      <td>104</td>\n",
       "      <td>Y</td>\n",
       "      <td>Y</td>\n",
       "      <td>90000</td>\n",
       "      <td>Y</td>\n",
       "      <td>H</td>\n",
       "      <td>Y</td>\n",
       "      <td>Y</td>\n",
       "      <td>P</td>\n",
       "    </tr>\n",
       "    <tr>\n",
       "      <th>1</th>\n",
       "      <td>2</td>\n",
       "      <td>M</td>\n",
       "      <td>6</td>\n",
       "      <td>IND</td>\n",
       "      <td>AP</td>\n",
       "      <td>GOVT</td>\n",
       "      <td>2018</td>\n",
       "      <td>97</td>\n",
       "      <td>N</td>\n",
       "      <td>Y</td>\n",
       "      <td>160000</td>\n",
       "      <td>N</td>\n",
       "      <td>L</td>\n",
       "      <td>N</td>\n",
       "      <td>N</td>\n",
       "      <td>N</td>\n",
       "    </tr>\n",
       "    <tr>\n",
       "      <th>2</th>\n",
       "      <td>3</td>\n",
       "      <td>M</td>\n",
       "      <td>5</td>\n",
       "      <td>IND</td>\n",
       "      <td>KL</td>\n",
       "      <td>GOVT</td>\n",
       "      <td>2018</td>\n",
       "      <td>98</td>\n",
       "      <td>N</td>\n",
       "      <td>N</td>\n",
       "      <td>400000</td>\n",
       "      <td>N</td>\n",
       "      <td>H</td>\n",
       "      <td>N</td>\n",
       "      <td>N</td>\n",
       "      <td>N</td>\n",
       "    </tr>\n",
       "    <tr>\n",
       "      <th>3</th>\n",
       "      <td>4</td>\n",
       "      <td>M</td>\n",
       "      <td>9</td>\n",
       "      <td>IND</td>\n",
       "      <td>KA</td>\n",
       "      <td>GOVT</td>\n",
       "      <td>2018</td>\n",
       "      <td>103</td>\n",
       "      <td>Y</td>\n",
       "      <td>Y</td>\n",
       "      <td>95000</td>\n",
       "      <td>N</td>\n",
       "      <td>H</td>\n",
       "      <td>Y</td>\n",
       "      <td>N</td>\n",
       "      <td>P</td>\n",
       "    </tr>\n",
       "    <tr>\n",
       "      <th>4</th>\n",
       "      <td>5</td>\n",
       "      <td>F</td>\n",
       "      <td>10</td>\n",
       "      <td>IND</td>\n",
       "      <td>KA</td>\n",
       "      <td>GOVT</td>\n",
       "      <td>2018</td>\n",
       "      <td>97</td>\n",
       "      <td>N</td>\n",
       "      <td>N</td>\n",
       "      <td>200000</td>\n",
       "      <td>N</td>\n",
       "      <td>L</td>\n",
       "      <td>N</td>\n",
       "      <td>N</td>\n",
       "      <td>N</td>\n",
       "    </tr>\n",
       "  </tbody>\n",
       "</table>\n",
       "</div>"
      ],
      "text/plain": [
       "   s.no gender  age country state hospital  year  temp vomiting eyepain  \\\n",
       "0     1      M    3     IND    TN    APPLO  2018   104        Y       Y   \n",
       "1     2      M    6     IND    AP     GOVT  2018    97        N       Y   \n",
       "2     3      M    5     IND    KL     GOVT  2018    98        N       N   \n",
       "3     4      M    9     IND    KA     GOVT  2018   103        Y       Y   \n",
       "4     5      F   10     IND    KA     GOVT  2018    97        N       N   \n",
       "\n",
       "   platelets fatigue fever musclepain skinrash disease  \n",
       "0      90000       Y     H          Y        Y       P  \n",
       "1     160000       N     L          N        N       N  \n",
       "2     400000       N     H          N        N       N  \n",
       "3      95000       N     H          Y        N       P  \n",
       "4     200000       N     L          N        N       N  "
      ]
     },
     "execution_count": 161,
     "metadata": {},
     "output_type": "execute_result"
    }
   ],
   "source": [
    "#STEP 2 : Importing Datasets\n",
    "\n",
    "dataset=pd.read_csv('/Users/tarunswarup/Downloads/Project_Vercetti/dengue.csv')\n",
    "dataset.head()"
   ]
  },
  {
   "cell_type": "code",
   "execution_count": 162,
   "metadata": {},
   "outputs": [],
   "source": [
    "#STEP 3 : Data Preprocessing\n",
    "\n",
    "from sklearn.preprocessing import LabelEncoder\n",
    "columnlist=['vomiting','eyepain','fatigue','fever','musclepain','skinrash','disease']\n",
    "for i in columnlist:\n",
    "        labelencoder_X=LabelEncoder()\n",
    "        dataset[i]=labelencoder_X.fit_transform(dataset[i])"
   ]
  },
  {
   "cell_type": "markdown",
   "metadata": {},
   "source": [
    "#### The dataset looks like this after LabelEncoder has worked on it . The attributes with categorical values were converted to binary so that the machine learns better."
   ]
  },
  {
   "cell_type": "code",
   "execution_count": 129,
   "metadata": {},
   "outputs": [
    {
     "name": "stdout",
     "output_type": "stream",
     "text": [
      "   s.no gender  age country state hospital  year  temp  vomiting  eyepain  \\\n",
      "0     1      M    3     IND    TN    APPLO  2018   104         1        1   \n",
      "1     2      M    6     IND    AP     GOVT  2018    97         0        1   \n",
      "2     3      M    5     IND    KL     GOVT  2018    98         0        0   \n",
      "3     4      M    9     IND    KA     GOVT  2018   103         1        1   \n",
      "4     5      F   10     IND    KA     GOVT  2018    97         0        0   \n",
      "\n",
      "   platelets  fatigue  fever  musclepain  skinrash  disease  \n",
      "0      90000        1      0           1         1        1  \n",
      "1     160000        0      1           0         0        0  \n",
      "2     400000        0      0           0         0        0  \n",
      "3      95000        0      0           1         0        1  \n",
      "4     200000        0      1           0         0        0  \n"
     ]
    }
   ],
   "source": [
    "print(dataset.head())"
   ]
  },
  {
   "cell_type": "code",
   "execution_count": 163,
   "metadata": {},
   "outputs": [],
   "source": [
    "X=dataset.iloc[ :,7:-1]"
   ]
  },
  {
   "cell_type": "code",
   "execution_count": 164,
   "metadata": {},
   "outputs": [
    {
     "data": {
      "text/html": [
       "<div>\n",
       "<style scoped>\n",
       "    .dataframe tbody tr th:only-of-type {\n",
       "        vertical-align: middle;\n",
       "    }\n",
       "\n",
       "    .dataframe tbody tr th {\n",
       "        vertical-align: top;\n",
       "    }\n",
       "\n",
       "    .dataframe thead th {\n",
       "        text-align: right;\n",
       "    }\n",
       "</style>\n",
       "<table border=\"1\" class=\"dataframe\">\n",
       "  <thead>\n",
       "    <tr style=\"text-align: right;\">\n",
       "      <th></th>\n",
       "      <th>temp</th>\n",
       "      <th>vomiting</th>\n",
       "      <th>eyepain</th>\n",
       "      <th>platelets</th>\n",
       "      <th>fatigue</th>\n",
       "      <th>fever</th>\n",
       "      <th>musclepain</th>\n",
       "      <th>skinrash</th>\n",
       "    </tr>\n",
       "  </thead>\n",
       "  <tbody>\n",
       "    <tr>\n",
       "      <th>0</th>\n",
       "      <td>104</td>\n",
       "      <td>1</td>\n",
       "      <td>1</td>\n",
       "      <td>90000</td>\n",
       "      <td>1</td>\n",
       "      <td>0</td>\n",
       "      <td>1</td>\n",
       "      <td>1</td>\n",
       "    </tr>\n",
       "    <tr>\n",
       "      <th>1</th>\n",
       "      <td>97</td>\n",
       "      <td>0</td>\n",
       "      <td>1</td>\n",
       "      <td>160000</td>\n",
       "      <td>0</td>\n",
       "      <td>1</td>\n",
       "      <td>0</td>\n",
       "      <td>0</td>\n",
       "    </tr>\n",
       "    <tr>\n",
       "      <th>2</th>\n",
       "      <td>98</td>\n",
       "      <td>0</td>\n",
       "      <td>0</td>\n",
       "      <td>400000</td>\n",
       "      <td>0</td>\n",
       "      <td>0</td>\n",
       "      <td>0</td>\n",
       "      <td>0</td>\n",
       "    </tr>\n",
       "    <tr>\n",
       "      <th>3</th>\n",
       "      <td>103</td>\n",
       "      <td>1</td>\n",
       "      <td>1</td>\n",
       "      <td>95000</td>\n",
       "      <td>0</td>\n",
       "      <td>0</td>\n",
       "      <td>1</td>\n",
       "      <td>0</td>\n",
       "    </tr>\n",
       "    <tr>\n",
       "      <th>4</th>\n",
       "      <td>97</td>\n",
       "      <td>0</td>\n",
       "      <td>0</td>\n",
       "      <td>200000</td>\n",
       "      <td>0</td>\n",
       "      <td>1</td>\n",
       "      <td>0</td>\n",
       "      <td>0</td>\n",
       "    </tr>\n",
       "  </tbody>\n",
       "</table>\n",
       "</div>"
      ],
      "text/plain": [
       "   temp  vomiting  eyepain  platelets  fatigue  fever  musclepain  skinrash\n",
       "0   104         1        1      90000        1      0           1         1\n",
       "1    97         0        1     160000        0      1           0         0\n",
       "2    98         0        0     400000        0      0           0         0\n",
       "3   103         1        1      95000        0      0           1         0\n",
       "4    97         0        0     200000        0      1           0         0"
      ]
     },
     "execution_count": 164,
     "metadata": {},
     "output_type": "execute_result"
    }
   ],
   "source": [
    "X.head()"
   ]
  },
  {
   "cell_type": "code",
   "execution_count": 165,
   "metadata": {},
   "outputs": [],
   "source": [
    "Y=dataset.iloc[:,15:]\n"
   ]
  },
  {
   "cell_type": "code",
   "execution_count": 166,
   "metadata": {},
   "outputs": [
    {
     "data": {
      "text/html": [
       "<div>\n",
       "<style scoped>\n",
       "    .dataframe tbody tr th:only-of-type {\n",
       "        vertical-align: middle;\n",
       "    }\n",
       "\n",
       "    .dataframe tbody tr th {\n",
       "        vertical-align: top;\n",
       "    }\n",
       "\n",
       "    .dataframe thead th {\n",
       "        text-align: right;\n",
       "    }\n",
       "</style>\n",
       "<table border=\"1\" class=\"dataframe\">\n",
       "  <thead>\n",
       "    <tr style=\"text-align: right;\">\n",
       "      <th></th>\n",
       "      <th>disease</th>\n",
       "    </tr>\n",
       "  </thead>\n",
       "  <tbody>\n",
       "    <tr>\n",
       "      <th>0</th>\n",
       "      <td>1</td>\n",
       "    </tr>\n",
       "    <tr>\n",
       "      <th>1</th>\n",
       "      <td>0</td>\n",
       "    </tr>\n",
       "    <tr>\n",
       "      <th>2</th>\n",
       "      <td>0</td>\n",
       "    </tr>\n",
       "    <tr>\n",
       "      <th>3</th>\n",
       "      <td>1</td>\n",
       "    </tr>\n",
       "    <tr>\n",
       "      <th>4</th>\n",
       "      <td>0</td>\n",
       "    </tr>\n",
       "  </tbody>\n",
       "</table>\n",
       "</div>"
      ],
      "text/plain": [
       "   disease\n",
       "0        1\n",
       "1        0\n",
       "2        0\n",
       "3        1\n",
       "4        0"
      ]
     },
     "execution_count": 166,
     "metadata": {},
     "output_type": "execute_result"
    }
   ],
   "source": [
    "Y.head()"
   ]
  },
  {
   "cell_type": "code",
   "execution_count": 167,
   "metadata": {},
   "outputs": [],
   "source": [
    "#STEP 4 : Splitting the Dataset\n",
    "\n",
    "from sklearn.model_selection import train_test_split\n",
    "X_train,X_test,Y_train,Y_test  = train_test_split(X,Y,test_size =0.2,random_state=0)"
   ]
  },
  {
   "cell_type": "code",
   "execution_count": 135,
   "metadata": {},
   "outputs": [
    {
     "data": {
      "image/png": "[encoded data removed]",
      "text/plain": [
       "<Figure size 432x288 with 1 Axes>"
      ]
     },
     "metadata": {},
     "output_type": "display_data"
    }
   ],
   "source": [
    "sns.set(style=\"dark\")\n",
    "sns.scatterplot(x=\"platelets\", y=\"age\",hue=\"disease\",data=dataset);"
   ]
  },
  {
   "cell_type": "code",
   "execution_count": 136,
   "metadata": {},
   "outputs": [
    {
     "data": {
      "text/plain": [
       "<matplotlib.axes._subplots.AxesSubplot at 0x1a29815da0>"
      ]
     },
     "execution_count": 136,
     "metadata": {},
     "output_type": "execute_result"
    },
    {
     "data": {
      "image/png": "[encoded data removed]",
      "text/plain": [
       "<Figure size 432x288 with 1 Axes>"
      ]
     },
     "metadata": {},
     "output_type": "display_data"
    }
   ],
   "source": [
    "sns.violinplot( x=dataset[\"disease\"], y=dataset[\"age\"], linewidth=1)\n"
   ]
  },
  {
   "cell_type": "code",
   "execution_count": 168,
   "metadata": {},
   "outputs": [
    {
     "data": {
      "text/html": [
       "<style  type=\"text/css\" >\n",
       "    #T_df1b6f32_cfe9_11e9_9270_acde48001122row0_col0 {\n",
       "            background-color:  #b40426;\n",
       "            color:  #f1f1f1;\n",
       "        }    #T_df1b6f32_cfe9_11e9_9270_acde48001122row0_col1 {\n",
       "            background-color:  #f4c6af;\n",
       "            color:  #000000;\n",
       "        }    #T_df1b6f32_cfe9_11e9_9270_acde48001122row0_col2 {\n",
       "            background-color:  #d2dbe8;\n",
       "            color:  #000000;\n",
       "        }    #T_df1b6f32_cfe9_11e9_9270_acde48001122row0_col3 {\n",
       "            background-color:  #5d7ce6;\n",
       "            color:  #000000;\n",
       "        }    #T_df1b6f32_cfe9_11e9_9270_acde48001122row0_col4 {\n",
       "            background-color:  #ef886b;\n",
       "            color:  #000000;\n",
       "        }    #T_df1b6f32_cfe9_11e9_9270_acde48001122row0_col5 {\n",
       "            background-color:  #5673e0;\n",
       "            color:  #000000;\n",
       "        }    #T_df1b6f32_cfe9_11e9_9270_acde48001122row0_col6 {\n",
       "            background-color:  #e6d7cf;\n",
       "            color:  #000000;\n",
       "        }    #T_df1b6f32_cfe9_11e9_9270_acde48001122row0_col7 {\n",
       "            background-color:  #f4987a;\n",
       "            color:  #000000;\n",
       "        }    #T_df1b6f32_cfe9_11e9_9270_acde48001122row1_col0 {\n",
       "            background-color:  #f4c6af;\n",
       "            color:  #000000;\n",
       "        }    #T_df1b6f32_cfe9_11e9_9270_acde48001122row1_col1 {\n",
       "            background-color:  #b40426;\n",
       "            color:  #f1f1f1;\n",
       "        }    #T_df1b6f32_cfe9_11e9_9270_acde48001122row1_col2 {\n",
       "            background-color:  #8fb1fe;\n",
       "            color:  #000000;\n",
       "        }    #T_df1b6f32_cfe9_11e9_9270_acde48001122row1_col3 {\n",
       "            background-color:  #5d7ce6;\n",
       "            color:  #000000;\n",
       "        }    #T_df1b6f32_cfe9_11e9_9270_acde48001122row1_col4 {\n",
       "            background-color:  #e9785d;\n",
       "            color:  #000000;\n",
       "        }    #T_df1b6f32_cfe9_11e9_9270_acde48001122row1_col5 {\n",
       "            background-color:  #3b4cc0;\n",
       "            color:  #f1f1f1;\n",
       "        }    #T_df1b6f32_cfe9_11e9_9270_acde48001122row1_col6 {\n",
       "            background-color:  #f3c7b1;\n",
       "            color:  #000000;\n",
       "        }    #T_df1b6f32_cfe9_11e9_9270_acde48001122row1_col7 {\n",
       "            background-color:  #f39577;\n",
       "            color:  #000000;\n",
       "        }    #T_df1b6f32_cfe9_11e9_9270_acde48001122row2_col0 {\n",
       "            background-color:  #ecd3c5;\n",
       "            color:  #000000;\n",
       "        }    #T_df1b6f32_cfe9_11e9_9270_acde48001122row2_col1 {\n",
       "            background-color:  #c0d4f5;\n",
       "            color:  #000000;\n",
       "        }    #T_df1b6f32_cfe9_11e9_9270_acde48001122row2_col2 {\n",
       "            background-color:  #b40426;\n",
       "            color:  #f1f1f1;\n",
       "        }    #T_df1b6f32_cfe9_11e9_9270_acde48001122row2_col3 {\n",
       "            background-color:  #9abbff;\n",
       "            color:  #000000;\n",
       "        }    #T_df1b6f32_cfe9_11e9_9270_acde48001122row2_col4 {\n",
       "            background-color:  #f1cdba;\n",
       "            color:  #000000;\n",
       "        }    #T_df1b6f32_cfe9_11e9_9270_acde48001122row2_col5 {\n",
       "            background-color:  #f2cbb7;\n",
       "            color:  #000000;\n",
       "        }    #T_df1b6f32_cfe9_11e9_9270_acde48001122row2_col6 {\n",
       "            background-color:  #7396f5;\n",
       "            color:  #000000;\n",
       "        }    #T_df1b6f32_cfe9_11e9_9270_acde48001122row2_col7 {\n",
       "            background-color:  #ecd3c5;\n",
       "            color:  #000000;\n",
       "        }    #T_df1b6f32_cfe9_11e9_9270_acde48001122row3_col0 {\n",
       "            background-color:  #3b4cc0;\n",
       "            color:  #f1f1f1;\n",
       "        }    #T_df1b6f32_cfe9_11e9_9270_acde48001122row3_col1 {\n",
       "            background-color:  #3b4cc0;\n",
       "            color:  #f1f1f1;\n",
       "        }    #T_df1b6f32_cfe9_11e9_9270_acde48001122row3_col2 {\n",
       "            background-color:  #3b4cc0;\n",
       "            color:  #f1f1f1;\n",
       "        }    #T_df1b6f32_cfe9_11e9_9270_acde48001122row3_col3 {\n",
       "            background-color:  #b40426;\n",
       "            color:  #f1f1f1;\n",
       "        }    #T_df1b6f32_cfe9_11e9_9270_acde48001122row3_col4 {\n",
       "            background-color:  #3b4cc0;\n",
       "            color:  #f1f1f1;\n",
       "        }    #T_df1b6f32_cfe9_11e9_9270_acde48001122row3_col5 {\n",
       "            background-color:  #e7d7ce;\n",
       "            color:  #000000;\n",
       "        }    #T_df1b6f32_cfe9_11e9_9270_acde48001122row3_col6 {\n",
       "            background-color:  #3b4cc0;\n",
       "            color:  #f1f1f1;\n",
       "        }    #T_df1b6f32_cfe9_11e9_9270_acde48001122row3_col7 {\n",
       "            background-color:  #3b4cc0;\n",
       "            color:  #f1f1f1;\n",
       "        }    #T_df1b6f32_cfe9_11e9_9270_acde48001122row4_col0 {\n",
       "            background-color:  #f29274;\n",
       "            color:  #000000;\n",
       "        }    #T_df1b6f32_cfe9_11e9_9270_acde48001122row4_col1 {\n",
       "            background-color:  #ed8366;\n",
       "            color:  #000000;\n",
       "        }    #T_df1b6f32_cfe9_11e9_9270_acde48001122row4_col2 {\n",
       "            background-color:  #cad8ef;\n",
       "            color:  #000000;\n",
       "        }    #T_df1b6f32_cfe9_11e9_9270_acde48001122row4_col3 {\n",
       "            background-color:  #3b4cc0;\n",
       "            color:  #f1f1f1;\n",
       "        }    #T_df1b6f32_cfe9_11e9_9270_acde48001122row4_col4 {\n",
       "            background-color:  #b40426;\n",
       "            color:  #f1f1f1;\n",
       "        }    #T_df1b6f32_cfe9_11e9_9270_acde48001122row4_col5 {\n",
       "            background-color:  #6384eb;\n",
       "            color:  #000000;\n",
       "        }    #T_df1b6f32_cfe9_11e9_9270_acde48001122row4_col6 {\n",
       "            background-color:  #f7b194;\n",
       "            color:  #000000;\n",
       "        }    #T_df1b6f32_cfe9_11e9_9270_acde48001122row4_col7 {\n",
       "            background-color:  #cf453c;\n",
       "            color:  #f1f1f1;\n",
       "        }    #T_df1b6f32_cfe9_11e9_9270_acde48001122row5_col0 {\n",
       "            background-color:  #6687ed;\n",
       "            color:  #000000;\n",
       "        }    #T_df1b6f32_cfe9_11e9_9270_acde48001122row5_col1 {\n",
       "            background-color:  #4961d2;\n",
       "            color:  #f1f1f1;\n",
       "        }    #T_df1b6f32_cfe9_11e9_9270_acde48001122row5_col2 {\n",
       "            background-color:  #e4d9d2;\n",
       "            color:  #000000;\n",
       "        }    #T_df1b6f32_cfe9_11e9_9270_acde48001122row5_col3 {\n",
       "            background-color:  #f3c7b1;\n",
       "            color:  #000000;\n",
       "        }    #T_df1b6f32_cfe9_11e9_9270_acde48001122row5_col4 {\n",
       "            background-color:  #93b5fe;\n",
       "            color:  #000000;\n",
       "        }    #T_df1b6f32_cfe9_11e9_9270_acde48001122row5_col5 {\n",
       "            background-color:  #b40426;\n",
       "            color:  #f1f1f1;\n",
       "        }    #T_df1b6f32_cfe9_11e9_9270_acde48001122row5_col6 {\n",
       "            background-color:  #80a3fa;\n",
       "            color:  #000000;\n",
       "        }    #T_df1b6f32_cfe9_11e9_9270_acde48001122row5_col7 {\n",
       "            background-color:  #98b9ff;\n",
       "            color:  #000000;\n",
       "        }    #T_df1b6f32_cfe9_11e9_9270_acde48001122row6_col0 {\n",
       "            background-color:  #e9d5cb;\n",
       "            color:  #000000;\n",
       "        }    #T_df1b6f32_cfe9_11e9_9270_acde48001122row6_col1 {\n",
       "            background-color:  #f4c5ad;\n",
       "            color:  #000000;\n",
       "        }    #T_df1b6f32_cfe9_11e9_9270_acde48001122row6_col2 {\n",
       "            background-color:  #3b4cc0;\n",
       "            color:  #f1f1f1;\n",
       "        }    #T_df1b6f32_cfe9_11e9_9270_acde48001122row6_col3 {\n",
       "            background-color:  #6282ea;\n",
       "            color:  #000000;\n",
       "        }    #T_df1b6f32_cfe9_11e9_9270_acde48001122row6_col4 {\n",
       "            background-color:  #f6a283;\n",
       "            color:  #000000;\n",
       "        }    #T_df1b6f32_cfe9_11e9_9270_acde48001122row6_col5 {\n",
       "            background-color:  #7699f6;\n",
       "            color:  #000000;\n",
       "        }    #T_df1b6f32_cfe9_11e9_9270_acde48001122row6_col6 {\n",
       "            background-color:  #b40426;\n",
       "            color:  #f1f1f1;\n",
       "        }    #T_df1b6f32_cfe9_11e9_9270_acde48001122row6_col7 {\n",
       "            background-color:  #f08a6c;\n",
       "            color:  #000000;\n",
       "        }    #T_df1b6f32_cfe9_11e9_9270_acde48001122row7_col0 {\n",
       "            background-color:  #f6a385;\n",
       "            color:  #000000;\n",
       "        }    #T_df1b6f32_cfe9_11e9_9270_acde48001122row7_col1 {\n",
       "            background-color:  #f5a081;\n",
       "            color:  #000000;\n",
       "        }    #T_df1b6f32_cfe9_11e9_9270_acde48001122row7_col2 {\n",
       "            background-color:  #bfd3f6;\n",
       "            color:  #000000;\n",
       "        }    #T_df1b6f32_cfe9_11e9_9270_acde48001122row7_col3 {\n",
       "            background-color:  #3d50c3;\n",
       "            color:  #f1f1f1;\n",
       "        }    #T_df1b6f32_cfe9_11e9_9270_acde48001122row7_col4 {\n",
       "            background-color:  #cf453c;\n",
       "            color:  #f1f1f1;\n",
       "        }    #T_df1b6f32_cfe9_11e9_9270_acde48001122row7_col5 {\n",
       "            background-color:  #6b8df0;\n",
       "            color:  #000000;\n",
       "        }    #T_df1b6f32_cfe9_11e9_9270_acde48001122row7_col6 {\n",
       "            background-color:  #f39778;\n",
       "            color:  #000000;\n",
       "        }    #T_df1b6f32_cfe9_11e9_9270_acde48001122row7_col7 {\n",
       "            background-color:  #b40426;\n",
       "            color:  #f1f1f1;\n",
       "        }</style><table id=\"T_df1b6f32_cfe9_11e9_9270_acde48001122\" ><thead>    <tr>        <th class=\"blank level0\" ></th>        <th class=\"col_heading level0 col0\" >temp</th>        <th class=\"col_heading level0 col1\" >vomiting</th>        <th class=\"col_heading level0 col2\" >eyepain</th>        <th class=\"col_heading level0 col3\" >platelets</th>        <th class=\"col_heading level0 col4\" >fatigue</th>        <th class=\"col_heading level0 col5\" >fever</th>        <th class=\"col_heading level0 col6\" >musclepain</th>        <th class=\"col_heading level0 col7\" >skinrash</th>    </tr></thead><tbody>\n",
       "                <tr>\n",
       "                        <th id=\"T_df1b6f32_cfe9_11e9_9270_acde48001122level0_row0\" class=\"row_heading level0 row0\" >temp</th>\n",
       "                        <td id=\"T_df1b6f32_cfe9_11e9_9270_acde48001122row0_col0\" class=\"data row0 col0\" >1</td>\n",
       "                        <td id=\"T_df1b6f32_cfe9_11e9_9270_acde48001122row0_col1\" class=\"data row0 col1\" >0.395742</td>\n",
       "                        <td id=\"T_df1b6f32_cfe9_11e9_9270_acde48001122row0_col2\" class=\"data row0 col2\" >0.309554</td>\n",
       "                        <td id=\"T_df1b6f32_cfe9_11e9_9270_acde48001122row0_col3\" class=\"data row0 col3\" >-0.588631</td>\n",
       "                        <td id=\"T_df1b6f32_cfe9_11e9_9270_acde48001122row0_col4\" class=\"data row0 col4\" >0.627732</td>\n",
       "                        <td id=\"T_df1b6f32_cfe9_11e9_9270_acde48001122row0_col5\" class=\"data row0 col5\" >-0.368608</td>\n",
       "                        <td id=\"T_df1b6f32_cfe9_11e9_9270_acde48001122row0_col6\" class=\"data row0 col6\" >0.280895</td>\n",
       "                        <td id=\"T_df1b6f32_cfe9_11e9_9270_acde48001122row0_col7\" class=\"data row0 col7\" >0.564784</td>\n",
       "            </tr>\n",
       "            <tr>\n",
       "                        <th id=\"T_df1b6f32_cfe9_11e9_9270_acde48001122level0_row1\" class=\"row_heading level0 row1\" >vomiting</th>\n",
       "                        <td id=\"T_df1b6f32_cfe9_11e9_9270_acde48001122row1_col0\" class=\"data row1 col0\" >0.395742</td>\n",
       "                        <td id=\"T_df1b6f32_cfe9_11e9_9270_acde48001122row1_col1\" class=\"data row1 col1\" >1</td>\n",
       "                        <td id=\"T_df1b6f32_cfe9_11e9_9270_acde48001122row1_col2\" class=\"data row1 col2\" >0.0496838</td>\n",
       "                        <td id=\"T_df1b6f32_cfe9_11e9_9270_acde48001122row1_col3\" class=\"data row1 col3\" >-0.58284</td>\n",
       "                        <td id=\"T_df1b6f32_cfe9_11e9_9270_acde48001122row1_col4\" class=\"data row1 col4\" >0.689693</td>\n",
       "                        <td id=\"T_df1b6f32_cfe9_11e9_9270_acde48001122row1_col5\" class=\"data row1 col5\" >-0.50452</td>\n",
       "                        <td id=\"T_df1b6f32_cfe9_11e9_9270_acde48001122row1_col6\" class=\"data row1 col6\" >0.401038</td>\n",
       "                        <td id=\"T_df1b6f32_cfe9_11e9_9270_acde48001122row1_col7\" class=\"data row1 col7\" >0.578114</td>\n",
       "            </tr>\n",
       "            <tr>\n",
       "                        <th id=\"T_df1b6f32_cfe9_11e9_9270_acde48001122level0_row2\" class=\"row_heading level0 row2\" >eyepain</th>\n",
       "                        <td id=\"T_df1b6f32_cfe9_11e9_9270_acde48001122row2_col0\" class=\"data row2 col0\" >0.309554</td>\n",
       "                        <td id=\"T_df1b6f32_cfe9_11e9_9270_acde48001122row2_col1\" class=\"data row2 col1\" >0.0496838</td>\n",
       "                        <td id=\"T_df1b6f32_cfe9_11e9_9270_acde48001122row2_col2\" class=\"data row2 col2\" >1</td>\n",
       "                        <td id=\"T_df1b6f32_cfe9_11e9_9270_acde48001122row2_col3\" class=\"data row2 col3\" >-0.274863</td>\n",
       "                        <td id=\"T_df1b6f32_cfe9_11e9_9270_acde48001122row2_col4\" class=\"data row2 col4\" >0.27345</td>\n",
       "                        <td id=\"T_df1b6f32_cfe9_11e9_9270_acde48001122row2_col5\" class=\"data row2 col5\" >0.400035</td>\n",
       "                        <td id=\"T_df1b6f32_cfe9_11e9_9270_acde48001122row2_col6\" class=\"data row2 col6\" >-0.278656</td>\n",
       "                        <td id=\"T_df1b6f32_cfe9_11e9_9270_acde48001122row2_col7\" class=\"data row2 col7\" >0.22758</td>\n",
       "            </tr>\n",
       "            <tr>\n",
       "                        <th id=\"T_df1b6f32_cfe9_11e9_9270_acde48001122level0_row3\" class=\"row_heading level0 row3\" >platelets</th>\n",
       "                        <td id=\"T_df1b6f32_cfe9_11e9_9270_acde48001122row3_col0\" class=\"data row3 col0\" >-0.588631</td>\n",
       "                        <td id=\"T_df1b6f32_cfe9_11e9_9270_acde48001122row3_col1\" class=\"data row3 col1\" >-0.58284</td>\n",
       "                        <td id=\"T_df1b6f32_cfe9_11e9_9270_acde48001122row3_col2\" class=\"data row3 col2\" >-0.274863</td>\n",
       "                        <td id=\"T_df1b6f32_cfe9_11e9_9270_acde48001122row3_col3\" class=\"data row3 col3\" >1</td>\n",
       "                        <td id=\"T_df1b6f32_cfe9_11e9_9270_acde48001122row3_col4\" class=\"data row3 col4\" >-0.784981</td>\n",
       "                        <td id=\"T_df1b6f32_cfe9_11e9_9270_acde48001122row3_col5\" class=\"data row3 col5\" >0.311742</td>\n",
       "                        <td id=\"T_df1b6f32_cfe9_11e9_9270_acde48001122row3_col6\" class=\"data row3 col6\" >-0.555228</td>\n",
       "                        <td id=\"T_df1b6f32_cfe9_11e9_9270_acde48001122row3_col7\" class=\"data row3 col7\" >-0.768326</td>\n",
       "            </tr>\n",
       "            <tr>\n",
       "                        <th id=\"T_df1b6f32_cfe9_11e9_9270_acde48001122level0_row4\" class=\"row_heading level0 row4\" >fatigue</th>\n",
       "                        <td id=\"T_df1b6f32_cfe9_11e9_9270_acde48001122row4_col0\" class=\"data row4 col0\" >0.627732</td>\n",
       "                        <td id=\"T_df1b6f32_cfe9_11e9_9270_acde48001122row4_col1\" class=\"data row4 col1\" >0.689693</td>\n",
       "                        <td id=\"T_df1b6f32_cfe9_11e9_9270_acde48001122row4_col2\" class=\"data row4 col2\" >0.27345</td>\n",
       "                        <td id=\"T_df1b6f32_cfe9_11e9_9270_acde48001122row4_col3\" class=\"data row4 col3\" >-0.784981</td>\n",
       "                        <td id=\"T_df1b6f32_cfe9_11e9_9270_acde48001122row4_col4\" class=\"data row4 col4\" >1</td>\n",
       "                        <td id=\"T_df1b6f32_cfe9_11e9_9270_acde48001122row4_col5\" class=\"data row4 col5\" >-0.305856</td>\n",
       "                        <td id=\"T_df1b6f32_cfe9_11e9_9270_acde48001122row4_col6\" class=\"data row4 col6\" >0.513355</td>\n",
       "                        <td id=\"T_df1b6f32_cfe9_11e9_9270_acde48001122row4_col7\" class=\"data row4 col7\" >0.865198</td>\n",
       "            </tr>\n",
       "            <tr>\n",
       "                        <th id=\"T_df1b6f32_cfe9_11e9_9270_acde48001122level0_row5\" class=\"row_heading level0 row5\" >fever</th>\n",
       "                        <td id=\"T_df1b6f32_cfe9_11e9_9270_acde48001122row5_col0\" class=\"data row5 col0\" >-0.368608</td>\n",
       "                        <td id=\"T_df1b6f32_cfe9_11e9_9270_acde48001122row5_col1\" class=\"data row5 col1\" >-0.50452</td>\n",
       "                        <td id=\"T_df1b6f32_cfe9_11e9_9270_acde48001122row5_col2\" class=\"data row5 col2\" >0.400035</td>\n",
       "                        <td id=\"T_df1b6f32_cfe9_11e9_9270_acde48001122row5_col3\" class=\"data row5 col3\" >0.311742</td>\n",
       "                        <td id=\"T_df1b6f32_cfe9_11e9_9270_acde48001122row5_col4\" class=\"data row5 col4\" >-0.305856</td>\n",
       "                        <td id=\"T_df1b6f32_cfe9_11e9_9270_acde48001122row5_col5\" class=\"data row5 col5\" >1</td>\n",
       "                        <td id=\"T_df1b6f32_cfe9_11e9_9270_acde48001122row5_col6\" class=\"data row5 col6\" >-0.226348</td>\n",
       "                        <td id=\"T_df1b6f32_cfe9_11e9_9270_acde48001122row5_col7\" class=\"data row5 col7\" >-0.270233</td>\n",
       "            </tr>\n",
       "            <tr>\n",
       "                        <th id=\"T_df1b6f32_cfe9_11e9_9270_acde48001122level0_row6\" class=\"row_heading level0 row6\" >musclepain</th>\n",
       "                        <td id=\"T_df1b6f32_cfe9_11e9_9270_acde48001122row6_col0\" class=\"data row6 col0\" >0.280895</td>\n",
       "                        <td id=\"T_df1b6f32_cfe9_11e9_9270_acde48001122row6_col1\" class=\"data row6 col1\" >0.401038</td>\n",
       "                        <td id=\"T_df1b6f32_cfe9_11e9_9270_acde48001122row6_col2\" class=\"data row6 col2\" >-0.278656</td>\n",
       "                        <td id=\"T_df1b6f32_cfe9_11e9_9270_acde48001122row6_col3\" class=\"data row6 col3\" >-0.555228</td>\n",
       "                        <td id=\"T_df1b6f32_cfe9_11e9_9270_acde48001122row6_col4\" class=\"data row6 col4\" >0.513355</td>\n",
       "                        <td id=\"T_df1b6f32_cfe9_11e9_9270_acde48001122row6_col5\" class=\"data row6 col5\" >-0.226348</td>\n",
       "                        <td id=\"T_df1b6f32_cfe9_11e9_9270_acde48001122row6_col6\" class=\"data row6 col6\" >1</td>\n",
       "                        <td id=\"T_df1b6f32_cfe9_11e9_9270_acde48001122row6_col7\" class=\"data row6 col7\" >0.622516</td>\n",
       "            </tr>\n",
       "            <tr>\n",
       "                        <th id=\"T_df1b6f32_cfe9_11e9_9270_acde48001122level0_row7\" class=\"row_heading level0 row7\" >skinrash</th>\n",
       "                        <td id=\"T_df1b6f32_cfe9_11e9_9270_acde48001122row7_col0\" class=\"data row7 col0\" >0.564784</td>\n",
       "                        <td id=\"T_df1b6f32_cfe9_11e9_9270_acde48001122row7_col1\" class=\"data row7 col1\" >0.578114</td>\n",
       "                        <td id=\"T_df1b6f32_cfe9_11e9_9270_acde48001122row7_col2\" class=\"data row7 col2\" >0.22758</td>\n",
       "                        <td id=\"T_df1b6f32_cfe9_11e9_9270_acde48001122row7_col3\" class=\"data row7 col3\" >-0.768326</td>\n",
       "                        <td id=\"T_df1b6f32_cfe9_11e9_9270_acde48001122row7_col4\" class=\"data row7 col4\" >0.865198</td>\n",
       "                        <td id=\"T_df1b6f32_cfe9_11e9_9270_acde48001122row7_col5\" class=\"data row7 col5\" >-0.270233</td>\n",
       "                        <td id=\"T_df1b6f32_cfe9_11e9_9270_acde48001122row7_col6\" class=\"data row7 col6\" >0.622516</td>\n",
       "                        <td id=\"T_df1b6f32_cfe9_11e9_9270_acde48001122row7_col7\" class=\"data row7 col7\" >1</td>\n",
       "            </tr>\n",
       "    </tbody></table>"
      ],
      "text/plain": [
       "<pandas.io.formats.style.Styler at 0x1a28c4ba20>"
      ]
     },
     "execution_count": 168,
     "metadata": {},
     "output_type": "execute_result"
    }
   ],
   "source": [
    "corr = X.corr()\n",
    "corr.style.background_gradient(cmap='coolwarm')"
   ]
  },
  {
   "cell_type": "code",
   "execution_count": null,
   "metadata": {},
   "outputs": [],
   "source": [
    "# f = plt.figure(figsize=(13, 9))\n",
    "# plt.matshow(X.corr(), fignum=f.number)\n",
    "# plt.xticks(range(X.shape[1]), X.columns, fontsize=14)\n",
    "# plt.yticks(range(X.shape[1]), X.columns, fontsize=14)\n",
    "# cb = plt.colorbar()\n",
    "# cb.ax.tick_params(labelsize=10)\n",
    "# plt.title('Correlation Matrix', fontsize=12);"
   ]
  },
  {
   "cell_type": "code",
   "execution_count": 169,
   "metadata": {},
   "outputs": [
    {
     "data": {
      "text/plain": [
       "<matplotlib.axes._subplots.AxesSubplot at 0x1a2960b0b8>"
      ]
     },
     "execution_count": 169,
     "metadata": {},
     "output_type": "execute_result"
    },
    {
     "data": {
      "image/png": "[encoded data removed]",
      "text/plain": [
       "<Figure size 432x288 with 2 Axes>"
      ]
     },
     "metadata": {},
     "output_type": "display_data"
    }
   ],
   "source": [
    "sns.heatmap(corr, \n",
    "        xticklabels=corr.columns,\n",
    "        yticklabels=corr.columns)"
   ]
  },
  {
   "cell_type": "code",
   "execution_count": 170,
   "metadata": {},
   "outputs": [
    {
     "name": "stderr",
     "output_type": "stream",
     "text": [
      "/Users/tarunswarup/anaconda3/lib/python3.7/site-packages/sklearn/utils/validation.py:761: DataConversionWarning: A column-vector y was passed when a 1d array was expected. Please change the shape of y to (n_samples, ), for example using ravel().\n",
      "  y = column_or_1d(y, warn=True)\n"
     ]
    },
    {
     "data": {
      "text/plain": [
       "SVC(C=1.0, cache_size=200, class_weight=None, coef0=0.0,\n",
       "  decision_function_shape='ovr', degree=3, gamma='auto_deprecated',\n",
       "  kernel='linear', max_iter=-1, probability=False, random_state=None,\n",
       "  shrinking=True, tol=0.001, verbose=False)"
      ]
     },
     "execution_count": 170,
     "metadata": {},
     "output_type": "execute_result"
    }
   ],
   "source": [
    "from sklearn import svm\n",
    "c1 = svm.SVC(kernel='linear', C = 1.0)\n",
    "\n",
    "#clf.fit(x,y)\n",
    "c1.fit(X_train,Y_train)"
   ]
  },
  {
   "cell_type": "code",
   "execution_count": 171,
   "metadata": {},
   "outputs": [],
   "source": [
    "Y1_pred = c1.predict(X_test)"
   ]
  },
  {
   "cell_type": "code",
   "execution_count": 172,
   "metadata": {},
   "outputs": [
    {
     "name": "stdout",
     "output_type": "stream",
     "text": [
      "AUC: 0.9415064102564101\n",
      "[1 0 0 0 0 1 0 1 0 1 0 0 1 1 0 0 0 0 0 1 0 1 1 0 1 0 0 0 0 0 0 1 1 1 1 1 1\n",
      " 0 0 0 1 1 1 0 0 1 0 1 0 0 0 1 1 1 0 0 1 1 0 0 1 0 1 0 1 1 1 1 1 1 1 0 0 0\n",
      " 0 0 0 0 1 1 0 1 1 1 1 1 1 1 0 1 1 0 1 1 0 1 1 0 0 0 0 1 0 0 1 1 1 0 0 0 0\n",
      " 0 0 1 0 0 0 1 0 1 0 1 0 0 1 1 0 1 0 0 0 1 0 1 1 0 0 0 0 0 0 0 1 0 1 1 0 1\n",
      " 0 0 1 0 1 1 0 1 1 0 0 0 1 0 0 1 1 1 0 0 1 0 1 1 1 0 0 0 1 1 0 1 1 0 1 1 1\n",
      " 1 1 1 1 1 1 0 0 0 0 1 0 1 0 0]\n",
      "\n"
     ]
    }
   ],
   "source": [
    "from sklearn.metrics import roc_auc_score,accuracy_score\n",
    "Y1_pred=c1.predict(X_test)\n",
    "print (\"AUC:\",roc_auc_score(Y_test,Y1_pred))\n",
    "print(Y1_pred)\n",
    "print()\n",
    "# a = accuracy_score(Y_test,Y1_pred)\n",
    "# print(a)"
   ]
  },
  {
   "cell_type": "code",
   "execution_count": 173,
   "metadata": {},
   "outputs": [
    {
     "name": "stdout",
     "output_type": "stream",
     "text": [
      "[[94  2]\n",
      " [10 94]]\n",
      "              precision    recall  f1-score   support\n",
      "\n",
      "           0       0.90      0.98      0.94        96\n",
      "           1       0.98      0.90      0.94       104\n",
      "\n",
      "   micro avg       0.94      0.94      0.94       200\n",
      "   macro avg       0.94      0.94      0.94       200\n",
      "weighted avg       0.94      0.94      0.94       200\n",
      "\n"
     ]
    }
   ],
   "source": [
    "from sklearn.metrics import classification_report, confusion_matrix\n",
    "print(confusion_matrix(Y_test,Y1_pred))\n",
    "print(classification_report(Y_test,Y1_pred))"
   ]
  },
  {
   "cell_type": "code",
   "execution_count": null,
   "metadata": {},
   "outputs": [],
   "source": []
  },
  {
   "cell_type": "code",
   "execution_count": 174,
   "metadata": {},
   "outputs": [
    {
     "name": "stderr",
     "output_type": "stream",
     "text": [
      "/Users/tarunswarup/anaconda3/lib/python3.7/site-packages/ipykernel_launcher.py:3: DataConversionWarning: A column-vector y was passed when a 1d array was expected. Please change the shape of y to (n_samples,), for example using ravel().\n",
      "  This is separate from the ipykernel package so we can avoid doing imports until\n"
     ]
    },
    {
     "data": {
      "text/plain": [
       "RandomForestClassifier(bootstrap=True, class_weight=None, criterion='gini',\n",
       "            max_depth=None, max_features='auto', max_leaf_nodes=None,\n",
       "            min_impurity_decrease=0.0, min_impurity_split=None,\n",
       "            min_samples_leaf=1, min_samples_split=2,\n",
       "            min_weight_fraction_leaf=0.0, n_estimators=200, n_jobs=None,\n",
       "            oob_score=False, random_state=None, verbose=0,\n",
       "            warm_start=False)"
      ]
     },
     "execution_count": 174,
     "metadata": {},
     "output_type": "execute_result"
    }
   ],
   "source": [
    "from sklearn.ensemble import RandomForestClassifier\n",
    "clf=RandomForestClassifier(n_estimators=200)\n",
    "clf.fit(X_train,Y_train)"
   ]
  },
  {
   "cell_type": "code",
   "execution_count": 176,
   "metadata": {},
   "outputs": [
    {
     "data": {
      "text/html": [
       "<div>\n",
       "<style scoped>\n",
       "    .dataframe tbody tr th:only-of-type {\n",
       "        vertical-align: middle;\n",
       "    }\n",
       "\n",
       "    .dataframe tbody tr th {\n",
       "        vertical-align: top;\n",
       "    }\n",
       "\n",
       "    .dataframe thead th {\n",
       "        text-align: right;\n",
       "    }\n",
       "</style>\n",
       "<table border=\"1\" class=\"dataframe\">\n",
       "  <thead>\n",
       "    <tr style=\"text-align: right;\">\n",
       "      <th></th>\n",
       "      <th>temp</th>\n",
       "      <th>vomiting</th>\n",
       "      <th>eyepain</th>\n",
       "      <th>platelets</th>\n",
       "      <th>fatigue</th>\n",
       "      <th>fever</th>\n",
       "      <th>musclepain</th>\n",
       "      <th>skinrash</th>\n",
       "    </tr>\n",
       "  </thead>\n",
       "  <tbody>\n",
       "    <tr>\n",
       "      <th>687</th>\n",
       "      <td>95</td>\n",
       "      <td>1</td>\n",
       "      <td>0</td>\n",
       "      <td>160001</td>\n",
       "      <td>0</td>\n",
       "      <td>0</td>\n",
       "      <td>0</td>\n",
       "      <td>0</td>\n",
       "    </tr>\n",
       "    <tr>\n",
       "      <th>500</th>\n",
       "      <td>98</td>\n",
       "      <td>0</td>\n",
       "      <td>1</td>\n",
       "      <td>142356</td>\n",
       "      <td>1</td>\n",
       "      <td>1</td>\n",
       "      <td>0</td>\n",
       "      <td>1</td>\n",
       "    </tr>\n",
       "    <tr>\n",
       "      <th>332</th>\n",
       "      <td>98</td>\n",
       "      <td>0</td>\n",
       "      <td>0</td>\n",
       "      <td>399255</td>\n",
       "      <td>0</td>\n",
       "      <td>0</td>\n",
       "      <td>0</td>\n",
       "      <td>0</td>\n",
       "    </tr>\n",
       "    <tr>\n",
       "      <th>979</th>\n",
       "      <td>98</td>\n",
       "      <td>0</td>\n",
       "      <td>0</td>\n",
       "      <td>399255</td>\n",
       "      <td>0</td>\n",
       "      <td>0</td>\n",
       "      <td>0</td>\n",
       "      <td>0</td>\n",
       "    </tr>\n",
       "    <tr>\n",
       "      <th>817</th>\n",
       "      <td>99</td>\n",
       "      <td>1</td>\n",
       "      <td>0</td>\n",
       "      <td>68000</td>\n",
       "      <td>1</td>\n",
       "      <td>0</td>\n",
       "      <td>1</td>\n",
       "      <td>1</td>\n",
       "    </tr>\n",
       "  </tbody>\n",
       "</table>\n",
       "</div>"
      ],
      "text/plain": [
       "     temp  vomiting  eyepain  platelets  fatigue  fever  musclepain  skinrash\n",
       "687    95         1        0     160001        0      0           0         0\n",
       "500    98         0        1     142356        1      1           0         1\n",
       "332    98         0        0     399255        0      0           0         0\n",
       "979    98         0        0     399255        0      0           0         0\n",
       "817    99         1        0      68000        1      0           1         1"
      ]
     },
     "execution_count": 176,
     "metadata": {},
     "output_type": "execute_result"
    }
   ],
   "source": [
    "import pandas as pd\n",
    "columns=['temp','vomiting','eyepain','platelets','fatigue','fever','musclepain','skinrash']\n",
    "\n",
    "df_1 = pd.DataFrame(X_train, columns=columns)\n",
    "# print(X_train.shape)\n",
    "# X_train.view()\n",
    "df_1.head()"
   ]
  },
  {
   "cell_type": "code",
   "execution_count": 177,
   "metadata": {},
   "outputs": [
    {
     "data": {
      "text/html": [
       "<div>\n",
       "<style scoped>\n",
       "    .dataframe tbody tr th:only-of-type {\n",
       "        vertical-align: middle;\n",
       "    }\n",
       "\n",
       "    .dataframe tbody tr th {\n",
       "        vertical-align: top;\n",
       "    }\n",
       "\n",
       "    .dataframe thead th {\n",
       "        text-align: right;\n",
       "    }\n",
       "</style>\n",
       "<table border=\"1\" class=\"dataframe\">\n",
       "  <thead>\n",
       "    <tr style=\"text-align: right;\">\n",
       "      <th></th>\n",
       "      <th>importance</th>\n",
       "    </tr>\n",
       "  </thead>\n",
       "  <tbody>\n",
       "    <tr>\n",
       "      <th>platelets</th>\n",
       "      <td>0.369425</td>\n",
       "    </tr>\n",
       "    <tr>\n",
       "      <th>fatigue</th>\n",
       "      <td>0.205269</td>\n",
       "    </tr>\n",
       "    <tr>\n",
       "      <th>skinrash</th>\n",
       "      <td>0.176060</td>\n",
       "    </tr>\n",
       "    <tr>\n",
       "      <th>temp</th>\n",
       "      <td>0.100233</td>\n",
       "    </tr>\n",
       "    <tr>\n",
       "      <th>musclepain</th>\n",
       "      <td>0.070825</td>\n",
       "    </tr>\n",
       "    <tr>\n",
       "      <th>vomiting</th>\n",
       "      <td>0.046304</td>\n",
       "    </tr>\n",
       "    <tr>\n",
       "      <th>eyepain</th>\n",
       "      <td>0.020197</td>\n",
       "    </tr>\n",
       "    <tr>\n",
       "      <th>fever</th>\n",
       "      <td>0.011686</td>\n",
       "    </tr>\n",
       "  </tbody>\n",
       "</table>\n",
       "</div>"
      ],
      "text/plain": [
       "            importance\n",
       "platelets     0.369425\n",
       "fatigue       0.205269\n",
       "skinrash      0.176060\n",
       "temp          0.100233\n",
       "musclepain    0.070825\n",
       "vomiting      0.046304\n",
       "eyepain       0.020197\n",
       "fever         0.011686"
      ]
     },
     "execution_count": 177,
     "metadata": {},
     "output_type": "execute_result"
    }
   ],
   "source": [
    "feature_importances = pd.DataFrame(clf.feature_importances_,\n",
    "                                   index = df_1.columns, columns = ['importance']).sort_values('importance',ascending=False)\n",
    "feature_importances"
   ]
  },
  {
   "cell_type": "code",
   "execution_count": 65,
   "metadata": {},
   "outputs": [],
   "source": [
    "#col = dataset.iloc[ :,[8,9,12,13]]"
   ]
  },
  {
   "cell_type": "code",
   "execution_count": 85,
   "metadata": {},
   "outputs": [],
   "source": [
    "from sklearn.model_selection import train_test_split\n",
    "X_train,X_test,Y_train,Y_test  = train_test_split(X,Y,test_size =0.2,random_state=0)"
   ]
  },
  {
   "cell_type": "code",
   "execution_count": 178,
   "metadata": {},
   "outputs": [
    {
     "name": "stderr",
     "output_type": "stream",
     "text": [
      "/Users/tarunswarup/anaconda3/lib/python3.7/site-packages/sklearn/linear_model/logistic.py:433: FutureWarning: Default solver will be changed to 'lbfgs' in 0.22. Specify a solver to silence this warning.\n",
      "  FutureWarning)\n",
      "/Users/tarunswarup/anaconda3/lib/python3.7/site-packages/sklearn/utils/validation.py:761: DataConversionWarning: A column-vector y was passed when a 1d array was expected. Please change the shape of y to (n_samples, ), for example using ravel().\n",
      "  y = column_or_1d(y, warn=True)\n"
     ]
    }
   ],
   "source": [
    "#Building the Model\n",
    "from sklearn.linear_model import LogisticRegression\n",
    "regressor = LogisticRegression()\n",
    "H=regressor.fit(X_train,Y_train)\n"
   ]
  },
  {
   "cell_type": "code",
   "execution_count": 179,
   "metadata": {},
   "outputs": [
    {
     "data": {
      "text/plain": [
       "array([1, 0, 0, 0, 0, 1, 0, 1, 0, 1, 0, 0, 1, 1, 0, 0, 0, 0, 0, 1, 1, 1,\n",
       "       1, 0, 1, 0, 1, 0, 0, 0, 0, 1, 1, 1, 1, 1, 1, 0, 0, 0, 1, 1, 1, 0,\n",
       "       0, 1, 0, 1, 0, 0, 0, 1, 1, 1, 0, 0, 1, 1, 0, 0, 1, 0, 1, 0, 1, 1,\n",
       "       1, 1, 1, 1, 1, 0, 0, 0, 0, 0, 0, 0, 1, 1, 0, 1, 1, 1, 1, 1, 1, 1,\n",
       "       0, 1, 1, 1, 1, 1, 0, 1, 1, 0, 0, 0, 0, 1, 0, 0, 1, 1, 1, 0, 0, 0,\n",
       "       1, 0, 0, 1, 0, 0, 0, 1, 0, 1, 0, 1, 0, 0, 1, 1, 0, 1, 0, 0, 1, 1,\n",
       "       0, 1, 1, 0, 0, 0, 0, 0, 0, 0, 1, 0, 1, 1, 0, 1, 1, 0, 1, 0, 1, 1,\n",
       "       0, 1, 1, 0, 0, 0, 1, 0, 0, 1, 1, 1, 0, 0, 1, 0, 1, 1, 1, 0, 0, 0,\n",
       "       1, 1, 0, 1, 1, 0, 1, 1, 1, 1, 1, 1, 1, 1, 1, 0, 0, 0, 0, 1, 0, 1,\n",
       "       0, 0])"
      ]
     },
     "execution_count": 179,
     "metadata": {},
     "output_type": "execute_result"
    }
   ],
   "source": [
    "Y_pred = regressor.predict(X_test) \n",
    "Y_pred"
   ]
  },
  {
   "cell_type": "code",
   "execution_count": 180,
   "metadata": {},
   "outputs": [
    {
     "data": {
      "text/plain": [
       "array([[ 94,   2],\n",
       "       [  4, 100]])"
      ]
     },
     "execution_count": 180,
     "metadata": {},
     "output_type": "execute_result"
    }
   ],
   "source": [
    "from sklearn import metrics\n",
    "cnf_matrix = metrics.confusion_matrix(Y_test, Y_pred)\n",
    "cnf_matrix"
   ]
  },
  {
   "cell_type": "code",
   "execution_count": 181,
   "metadata": {},
   "outputs": [
    {
     "name": "stdout",
     "output_type": "stream",
     "text": [
      "ACC: 0.9703525641025642\n"
     ]
    }
   ],
   "source": [
    "from sklearn.metrics import roc_auc_score\n",
    "from sklearn.metrics import roc_curve\n",
    "from matplotlib import pyplot\n",
    "aucry=roc_auc_score(Y_test,Y_pred)\n",
    "\n",
    "print(\"ACC:\",aucry)"
   ]
  },
  {
   "cell_type": "code",
   "execution_count": 182,
   "metadata": {},
   "outputs": [
    {
     "data": {
      "text/plain": [
       "<matplotlib.axes._subplots.AxesSubplot at 0x1a28665828>"
      ]
     },
     "execution_count": 182,
     "metadata": {},
     "output_type": "execute_result"
    },
    {
     "data": {
      "image/png": "[encoded data removed]",
      "text/plain": [
       "<Figure size 432x288 with 1 Axes>"
      ]
     },
     "metadata": {},
     "output_type": "display_data"
    }
   ],
   "source": [
    "sns.countplot(x='disease',hue='gender',data=dataset)\n"
   ]
  },
  {
   "cell_type": "code",
   "execution_count": 183,
   "metadata": {},
   "outputs": [
    {
     "name": "stdout",
     "output_type": "stream",
     "text": [
      "[[ 94   2]\n",
      " [  4 100]]\n",
      "              precision    recall  f1-score   support\n",
      "\n",
      "           0       0.96      0.98      0.97        96\n",
      "           1       0.98      0.96      0.97       104\n",
      "\n",
      "   micro avg       0.97      0.97      0.97       200\n",
      "   macro avg       0.97      0.97      0.97       200\n",
      "weighted avg       0.97      0.97      0.97       200\n",
      "\n"
     ]
    }
   ],
   "source": [
    "from sklearn.metrics import classification_report\n",
    "print(confusion_matrix(Y_test,Y_pred))\n",
    "print(classification_report(Y_test,Y_pred))"
   ]
  },
  {
   "cell_type": "code",
   "execution_count": 184,
   "metadata": {},
   "outputs": [
    {
     "name": "stdout",
     "output_type": "stream",
     "text": [
      "Accuracy: 0.97\n",
      "Precision: 0.9803921568627451\n",
      "Recall: 0.9615384615384616\n"
     ]
    }
   ],
   "source": [
    "from sklearn import metrics \n",
    "print(\"Accuracy:\",metrics.accuracy_score(Y_test, Y_pred))\n",
    "print(\"Precision:\",metrics.precision_score(Y_test, Y_pred))\n",
    "print(\"Recall:\",metrics.recall_score(Y_test, Y_pred))"
   ]
  },
  {
   "cell_type": "code",
   "execution_count": 185,
   "metadata": {},
   "outputs": [
    {
     "name": "stdout",
     "output_type": "stream",
     "text": [
      "ACC: 0.9703525641025642\n"
     ]
    },
    {
     "data": {
      "image/png": "[encoded data removed]",
      "text/plain": [
       "<Figure size 432x288 with 1 Axes>"
      ]
     },
     "metadata": {},
     "output_type": "display_data"
    }
   ],
   "source": [
    "from sklearn.metrics import roc_auc_score\n",
    "from sklearn.metrics import roc_curve\n",
    "from matplotlib import pyplot\n",
    "aucry=roc_auc_score(Y_test,Y_pred)\n",
    "\n",
    "print(\"ACC:\",aucry)\n",
    "probs = regressor.predict_proba(X_test)\n",
    "# keep probabilities for the positive outcome only\n",
    "probs = probs[:, 1]\n",
    "# calculate roc curve\n",
    "fpr, tpr, thresholds = roc_curve(Y_test, probs)\n",
    "# plot no skill\n",
    "pyplot.plot([0, 1], [0, 1], linestyle='-')\n",
    "# plot the roc curve for the model\n",
    "pyplot.plot(fpr, tpr)\n",
    "# show the plot\n",
    "pyplot.show()"
   ]
  },
  {
   "cell_type": "code",
   "execution_count": 186,
   "metadata": {},
   "outputs": [
    {
     "data": {
      "image/png": "[encoded data removed]",
      "text/plain": [
       "<Figure size 432x288 with 1 Axes>"
      ]
     },
     "metadata": {},
     "output_type": "display_data"
    }
   ],
   "source": [
    "from sklearn.metrics import roc_auc_score\n",
    "from sklearn.metrics import roc_curve\n",
    "from matplotlib import pyplot\n",
    "\n",
    "from sklearn.metrics import classification_report\n",
    "from sklearn.metrics import log_loss\n",
    "from numpy import array\n",
    "\n",
    "loss = log_loss(Y_test, probs)\n",
    "\n",
    "\n",
    "\n",
    "# predictions as 0 to 1 in 0.01 increments\n",
    "yhat = [x*0.01 for x in range(0, 101)]\n",
    "# evaluate predictions for a 0 true value\n",
    "losses_0 = [log_loss([0], [x], labels=[0,1]) for x in yhat]\n",
    "# evaluate predictions for a 1 true value\n",
    "losses_1 = [log_loss([1], [x], labels=[0,1]) for x in yhat]\n",
    "# plot input to loss\n",
    "pyplot.plot(yhat, losses_0, label='true=0')\n",
    "pyplot.plot(yhat, losses_1, label='true=1')\n",
    "pyplot.legend()\n",
    "pyplot.show()\n"
   ]
  },
  {
   "cell_type": "code",
   "execution_count": 187,
   "metadata": {},
   "outputs": [
    {
     "data": {
      "text/plain": [
       "0.16678503114384033"
      ]
     },
     "execution_count": 187,
     "metadata": {},
     "output_type": "execute_result"
    }
   ],
   "source": [
    "loss"
   ]
  },
  {
   "cell_type": "markdown",
   "metadata": {},
   "source": [
    "### Phase-2 (IoT Intergration )\n",
    "\n",
    "Steps 1-4:\n",
    "\n",
    "1. Install required IoT library \n",
    "2. Create widgets\n",
    "3. note down the Token Keys and variable Keys \n",
    "4. deploy the Model \n",
    "\n"
   ]
  },
  {
   "cell_type": "code",
   "execution_count": 188,
   "metadata": {},
   "outputs": [],
   "source": [
    "import sys"
   ]
  },
  {
   "cell_type": "code",
   "execution_count": 189,
   "metadata": {},
   "outputs": [],
   "source": [
    "from ubidots import ApiClient"
   ]
  },
  {
   "cell_type": "code",
   "execution_count": 190,
   "metadata": {},
   "outputs": [],
   "source": [
    "api = ApiClient(token=\"A1E-1RiuZrHDsVkCXfXJhEYXro5JqT6gXllJfNUnRdrAOnj4zAvSFZZKCzrF\")\n",
    "\n",
    "variable1 = api.get_variable(\"5d3daca7c03f9752cfa4d75b\")\n",
    "variable2 = api.get_variable(\"5d550d04c03f9708d88d0db7\") # longitude\n",
    "variable3 = api.get_variable(\"5d550cf5c03f9708bbf50f1d\")\n",
    "variable4 = api.get_variable(\"5d550ed0c03f9709ddb82928\")"
   ]
  },
  {
   "cell_type": "code",
   "execution_count": 191,
   "metadata": {},
   "outputs": [
    {
     "name": "stdout",
     "output_type": "stream",
     "text": [
      "enter dengue inputs Symptoms : 102 0 0 160000 0 1 0 0\n",
      "[102, 0, 0, 160000, 0, 1, 0, 0]\n",
      "[0]\n"
     ]
    },
    {
     "data": {
      "text/plain": [
       "array([0])"
      ]
     },
     "execution_count": 191,
     "metadata": {},
     "output_type": "execute_result"
    }
   ],
   "source": [
    "s = input(\"enter dengue inputs Symptoms : \") \n",
    "x = list(map(int, s.split())) \n",
    "print(x) \n",
    "\n",
    "#prediction \n",
    "# 102 0 0 160000 0 1 0 0 --0(Normal)\n",
    "# 102 0 0 60000 0 1 0 0 --1(Critical)\n",
    "Y_pred = regressor.predict([x]) \n",
    "print(Y_pred) \n",
    "Y_pred"
   ]
  },
  {
   "cell_type": "code",
   "execution_count": 192,
   "metadata": {},
   "outputs": [],
   "source": [
    "import requests\n",
    "import json\n",
    "import urllib.request\n",
    "import urllib.parse\n",
    "\n",
    "apikey='ce+/p8DI1mg-g6u3BB4FpqOeMGAn8q8HH7so6eYZDI'\n",
    "numbers=('3530894323227')\n",
    "sender='Alert TXTLCL'\n",
    "message='Patient is critical due to dengue fever'\n",
    "username = 'tarunhighv@icloud.com'\n",
    "\n",
    "def sendSMS(apikey, numbers, sender, message):\n",
    "    data =  urllib.parse.urlencode({'username':username,'apikey': apikey, 'numbers': numbers,\n",
    "        'message' : message, 'sender': sender})\n",
    "    data = data.encode('utf-8')\n",
    "    request = urllib.request.Request(\"https://api.txtlocal.com/send/?\")\n",
    "    f = urllib.request.urlopen(request, data)\n",
    "    fr = f.read()\n",
    "    return(fr)"
   ]
  },
  {
   "cell_type": "code",
   "execution_count": 159,
   "metadata": {},
   "outputs": [
    {
     "name": "stdout",
     "output_type": "stream",
     "text": [
      "patient is normal \n"
     ]
    }
   ],
   "source": [
    "if Y_pred[0] ==1:\n",
    "    a=1\n",
    "    variable1.save_value({'value':a})\n",
    "    print(\"Patient is critical\")\n",
    "    send_url = \"http://api.ipstack.com/31.193.221.194?access_key=76ea36786367e229e3a80033709d21e2\"\n",
    "    geo_req = requests.get(send_url)\n",
    "    geo_json = json.loads(geo_req.text)\n",
    "    latitude = geo_json['latitude']\n",
    "    longitude = geo_json['longitude']\n",
    "    variable2.save_value({'value':longitude})\n",
    "    variable3.save_value({'value':latitude})\n",
    "    variable4.save_value({\"value\":10,\"context\":{\"lat\":latitude,\"lng\":longitude}})\n",
    "    city = geo_json['city']\n",
    "    resp =  sendSMS(apikey, numbers,sender, message)\n",
    "    print (resp)\n",
    "    print(\"Latitude : \",latitude)\n",
    "    print(\"Longitude : \",longitude)\n",
    "    print(city)\n",
    "else:\n",
    "    b=0\n",
    "    variable1.save_value({'value':b})\n",
    "    print(\"patient is normal \")"
   ]
  },
  {
   "cell_type": "code",
   "execution_count": null,
   "metadata": {},
   "outputs": [],
   "source": []
  }
 ],
 "metadata": {
  "kernelspec": {
   "display_name": "Python 3",
   "language": "python",
   "name": "python3"
  },
  "language_info": {
   "codemirror_mode": {
    "name": "ipython",
    "version": 3
   },
   "file_extension": ".py",
   "mimetype": "text/x-python",
   "name": "python",
   "nbconvert_exporter": "python",
   "pygments_lexer": "ipython3",
   "version": "3.7.3"
  }
 },
 "nbformat": 4,
 "nbformat_minor": 2
}
